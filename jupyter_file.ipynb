{
 "cells": [
  {
   "cell_type": "code",
   "execution_count": 113,
   "metadata": {},
   "outputs": [],
   "source": [
    "import spacy\n",
    "from spacypdfreader.spacypdfreader import pdf_reader\n",
    "from itertools import groupby\n",
    "from text_processing_methods import preprocess_text, generate_index\n",
    "import nltk\n",
    "from nltk.corpus import stopwords\n",
    "from spellchecker import SpellChecker\n",
    "from spacypdfreader.spacypdfreader import pdf_reader\n",
    "import matplotlib.pyplot as plt\n",
    "import pprint\n",
    "import re"
   ]
  },
  {
   "cell_type": "code",
   "execution_count": 33,
   "metadata": {
    "scrolled": false
   },
   "outputs": [
    {
     "name": "stderr",
     "output_type": "stream",
     "text": [
      "[nltk_data] Downloading package stopwords to\n",
      "[nltk_data]     C:\\Users\\Admin\\AppData\\Roaming\\nltk_data...\n",
      "[nltk_data]   Package stopwords is already up-to-date!\n"
     ]
    },
    {
     "data": {
      "text/plain": [
       "True"
      ]
     },
     "execution_count": 33,
     "metadata": {},
     "output_type": "execute_result"
    }
   ],
   "source": [
    "nltk.download('stopwords')"
   ]
  },
  {
   "cell_type": "code",
   "execution_count": 102,
   "metadata": {},
   "outputs": [],
   "source": [
    "def preprocess_text(doc): # удаляем из текста стоп-слов и провим слова в нормальную форму\n",
    "    stop_words = set(stopwords.words('russian'))\n",
    "    cleaned_tokens = []\n",
    "    for token in doc:\n",
    "        if not token.is_space and not token.is_punct and not token.like_num and not token.is_title and token.text not in stop_words and re.search(r'[^а-яА-Я\\n]', token.text) is None:\n",
    "            cleaned_tokens.append(token.lemma_.lower())\n",
    "        # if token.is_title:\n",
    "        #     cleaned_tokens.append(token.text)\n",
    "    return cleaned_tokens"
   ]
  },
  {
   "cell_type": "code",
   "execution_count": 103,
   "metadata": {},
   "outputs": [],
   "source": [
    "def generate_index(doc, words_list): #нахождение стрницы и строки слов, где они встречаются впервые в тексте  \n",
    "    index = {}\n",
    "    line_number = 1\n",
    "    page_number = 0\n",
    "    new_row_error_margin = 2\n",
    "    new_row_pos = 0\n",
    "\n",
    "    for i in range(len(doc)):\n",
    "        \n",
    "        word_from_original = str(doc[i].lemma_.lower())\n",
    "\n",
    "        if word_from_original in words_list and word_from_original not in index:\n",
    "            index[word_from_original] = {'номер страницы: ': page_number, 'номер строки: ': line_number}\n",
    "        \n",
    "        if '\\n' == str(doc[i]):\n",
    "            # if i - new_row_pos >= new_row_error_margin: \n",
    "            line_number += 1\n",
    "            new_row_pos = i\n",
    "\n",
    "        if page_number != doc[i]._.page_number:\n",
    "            line_number = 1\n",
    "            page_number = doc[i]._.page_number\n",
    "\n",
    "    return index"
   ]
  },
  {
   "cell_type": "code",
   "execution_count": 136,
   "metadata": {
    "scrolled": true
   },
   "outputs": [
    {
     "name": "stdout",
     "output_type": "stream",
     "text": [
      "[['орган', 4145],\n",
      " ['обращение', 2923],\n",
      " ['лицо', 1808],\n",
      " ['государственный', 1702],\n",
      " ['вопрос', 1604],\n",
      " ['гражданин', 1503],\n",
      " ['приём', 1161],\n",
      " ['местный', 1134],\n",
      " ['самоуправление', 1064],\n",
      " ['заявитель', 1003],\n",
      " ['рассмотрение', 972],\n",
      " ['соответствующий', 960],\n",
      " ['решение', 875],\n",
      " ['федеральный', 808],\n",
      " ['субъект', 763],\n",
      " ['личный', 748],\n",
      " ['власть', 706],\n",
      " ['организация', 602],\n",
      " ['исполнительный', 590],\n",
      " ['форма', 586],\n",
      " ['число', 568],\n",
      " ['информация', 558],\n",
      " ['электронный', 516],\n",
      " ['год', 499],\n",
      " ['автор', 498],\n",
      " ['результат', 491],\n",
      " ['право', 481],\n",
      " ['деятельность', 479],\n",
      " ['документ', 466],\n",
      " ['должностной', 460],\n",
      " ['город', 455],\n",
      " ['компетенция', 451],\n",
      " ['обеспечение', 448],\n",
      " ['порядок', 445],\n",
      " ['ответ', 432],\n",
      " ['принять', 429],\n",
      " ['поступить', 418],\n",
      " ['входить', 412],\n",
      " ['соответствие', 408],\n",
      " ['уполномочить', 406],\n",
      " ['режим', 399],\n",
      " ['закон', 398],\n",
      " ['работа', 386],\n",
      " ['связь', 381],\n",
      " ['проведение', 365],\n",
      " ['поставить', 352],\n",
      " ['наименование', 351],\n",
      " ['приёмный', 351],\n",
      " ['рекомендация', 350],\n",
      " ['либо', 345],\n",
      " ['устный', 344],\n",
      " ['запрос', 341],\n",
      " ['объединение', 339],\n",
      " ['юридический', 338],\n",
      " ['иностранный', 334],\n",
      " ['которых', 323],\n",
      " ['количество', 320],\n",
      " ['адрес', 314],\n",
      " ['гражданство', 313],\n",
      " ['муниципальный', 309],\n",
      " ['мера', 294],\n",
      " ['поручение', 294],\n",
      " ['округ', 287],\n",
      " ['оценка', 278],\n",
      " ['письменный', 267],\n",
      " ['содержащихся', 262],\n",
      " ['иных', 256],\n",
      " ['пункт', 251],\n",
      " ['код', 247],\n",
      " ['настоящий', 247],\n",
      " ['статья', 244],\n",
      " ['сеть', 242],\n",
      " ['сфера', 242],\n",
      " ['осуществлять', 232],\n",
      " ['образование', 229],\n",
      " ['случай', 228],\n",
      " ['период', 226],\n",
      " ['ход', 224],\n",
      " ['сообщение', 223],\n",
      " ['работник', 221],\n",
      " ['день', 219],\n",
      " ['дом', 218],\n",
      " ['данного', 217],\n",
      " ['территориальный', 216],\n",
      " ['вид', 212],\n",
      " ['установить', 212],\n",
      " ['место', 209],\n",
      " ['российский', 207],\n",
      " ['жалоба', 205],\n",
      " ['направление', 205],\n",
      " ['также', 205],\n",
      " ['часть', 204],\n",
      " ['тематический', 203],\n",
      " ['материал', 200],\n",
      " ['представитель', 200],\n",
      " ['система', 200],\n",
      " ['территория', 199],\n",
      " ['общий', 194],\n",
      " ['учреждение', 189],\n",
      " ['которого', 188]]\n"
     ]
    }
   ],
   "source": [
    "pprint.pprint(main_words_usage) # type: ignore"
   ]
  },
  {
   "cell_type": "code",
   "execution_count": 104,
   "metadata": {
    "scrolled": true
   },
   "outputs": [
    {
     "name": "stdout",
     "output_type": "stream",
     "text": [
      "{'автор': {'номер страницы: ': 6, 'номер строки: ': 34},\n",
      " 'адрес': {'номер страницы: ': 19, 'номер строки: ': 11},\n",
      " 'вид': {'номер страницы: ': 8, 'номер строки: ': 2},\n",
      " 'власть': {'номер страницы: ': 4, 'номер строки: ': 20},\n",
      " 'вопрос': {'номер страницы: ': 7, 'номер строки: ': 3},\n",
      " 'входить': {'номер страницы: ': 9, 'номер строки: ': 45},\n",
      " 'год': {'номер страницы: ': 4, 'номер строки: ': 27},\n",
      " 'город': {'номер страницы: ': 6, 'номер строки: ': 6},\n",
      " 'государственный': {'номер страницы: ': 1, 'номер строки: ': 4},\n",
      " 'гражданин': {'номер страницы: ': 1, 'номер строки: ': 2},\n",
      " 'гражданство': {'номер страницы: ': 1, 'номер строки: ': 3},\n",
      " 'данного': {'номер страницы: ': 33, 'номер строки: ': 20},\n",
      " 'день': {'номер страницы: ': 6, 'номер строки: ': 29},\n",
      " 'деятельность': {'номер страницы: ': 3, 'номер строки: ': 4},\n",
      " 'документ': {'номер страницы: ': 8, 'номер строки: ': 2},\n",
      " 'должностной': {'номер страницы: ': 4, 'номер строки: ': 2},\n",
      " 'дом': {'номер страницы: ': 235, 'номер строки: ': 35},\n",
      " 'жалоба': {'номер страницы: ': 4, 'номер строки: ': 34},\n",
      " 'закон': {'номер страницы: ': 4, 'номер строки: ': 27},\n",
      " 'запрос': {'номер страницы: ': 1, 'номер строки: ': 2},\n",
      " 'заявитель': {'номер страницы: ': 15, 'номер строки: ': 21},\n",
      " 'иностранный': {'номер страницы: ': 1, 'номер строки: ': 2},\n",
      " 'информация': {'номер страницы: ': 4, 'номер строки: ': 30},\n",
      " 'иных': {'номер страницы: ': 1, 'номер строки: ': 5},\n",
      " 'исполнительный': {'номер страницы: ': 4, 'номер строки: ': 8},\n",
      " 'код': {'номер страницы: ': 33, 'номер строки: ': 4},\n",
      " 'количество': {'номер страницы: ': 7, 'номер строки: ': 3},\n",
      " 'компетенция': {'номер страницы: ': 9, 'номер строки: ': 45},\n",
      " 'которого': {'номер страницы: ': 30, 'номер строки: ': 25},\n",
      " 'которых': {'номер страницы: ': 9, 'номер строки: ': 45},\n",
      " 'либо': {'номер страницы: ': 22, 'номер строки: ': 27},\n",
      " 'лицо': {'номер страницы: ': 1, 'номер строки: ': 3},\n",
      " 'личный': {'номер страницы: ': 3, 'номер строки: ': 24},\n",
      " 'материал': {'номер страницы: ': 22, 'номер строки: ': 8},\n",
      " 'мера': {'номер страницы: ': 3, 'номер строки: ': 12},\n",
      " 'местный': {'номер страницы: ': 1, 'номер строки: ': 5},\n",
      " 'место': {'номер страницы: ': 15, 'номер строки: ': 21},\n",
      " 'муниципальный': {'номер страницы: ': 1, 'номер строки: ': 5},\n",
      " 'наименование': {'номер страницы: ': 39, 'номер строки: ': 17},\n",
      " 'направление': {'номер страницы: ': 10, 'номер строки: ': 14},\n",
      " 'настоящий': {'номер страницы: ': 15, 'номер строки: ': 6},\n",
      " 'обеспечение': {'номер страницы: ': 3, 'номер строки: ': 4},\n",
      " 'образование': {'номер страницы: ': 4, 'номер строки: ': 34},\n",
      " 'обращение': {'номер страницы: ': 1, 'номер строки: ': 2},\n",
      " 'общий': {'номер страницы: ': 44, 'номер строки: ': 3},\n",
      " 'объединение': {'номер страницы: ': 1, 'номер строки: ': 3},\n",
      " 'округ': {'номер страницы: ': 5, 'номер строки: ': 27},\n",
      " 'орган': {'номер страницы: ': 1, 'номер строки: ': 5},\n",
      " 'организация': {'номер страницы: ': 1, 'номер строки: ': 5},\n",
      " 'осуществлять': {'номер страницы: ': 4, 'номер строки: ': 3},\n",
      " 'ответ': {'номер страницы: ': 4, 'номер строки: ': 1},\n",
      " 'оценка': {'номер страницы: ': 4, 'номер строки: ': 1},\n",
      " 'период': {'номер страницы: ': 176, 'номер строки: ': 7},\n",
      " 'письменный': {'номер страницы: ': 33, 'номер строки: ': 2},\n",
      " 'поручение': {'номер страницы: ': 5, 'номер строки: ': 19},\n",
      " 'порядок': {'номер страницы: ': 4, 'номер строки: ': 14},\n",
      " 'поставить': {'номер страницы: ': 9, 'номер строки: ': 46},\n",
      " 'поступить': {'номер страницы: ': 3, 'номер строки: ': 27},\n",
      " 'право': {'номер страницы: ': 9, 'номер строки: ': 40},\n",
      " 'представитель': {'номер страницы: ': 9, 'номер строки: ': 8},\n",
      " 'принять': {'номер страницы: ': 3, 'номер строки: ': 12},\n",
      " 'приём': {'номер страницы: ': 4, 'номер строки: ': 16},\n",
      " 'приёмный': {'номер страницы: ': 1, 'номер строки: ': 4},\n",
      " 'проведение': {'номер страницы: ': 4, 'номер строки: ': 14},\n",
      " 'пункт': {'номер страницы: ': 22, 'номер строки: ': 12},\n",
      " 'работа': {'номер страницы: ': 1, 'номер строки: ': 2},\n",
      " 'работник': {'номер страницы: ': 21, 'номер строки: ': 8},\n",
      " 'рассмотрение': {'номер страницы: ': 3, 'номер строки: ': 1},\n",
      " 'режим': {'номер страницы: ': 3, 'номер строки: ': 14},\n",
      " 'результат': {'номер страницы: ': 3, 'номер строки: ': 1},\n",
      " 'рекомендация': {'номер страницы: ': 8, 'номер строки: ': 2},\n",
      " 'решение': {'номер страницы: ': 9, 'номер строки: ': 45},\n",
      " 'российский': {'номер страницы: ': 1, 'номер строки: ': 2},\n",
      " 'самоуправление': {'номер страницы: ': 1, 'номер строки: ': 5},\n",
      " 'связь': {'номер страницы: ': 6, 'номер строки: ': 24},\n",
      " 'сеть': {'номер страницы: ': 3, 'номер строки: ': 26},\n",
      " 'система': {'номер страницы: ': 6, 'номер строки: ': 28},\n",
      " 'случай': {'номер страницы: ': 22, 'номер строки: ': 13},\n",
      " 'содержащихся': {'номер страницы: ': 7, 'номер строки: ': 3},\n",
      " 'сообщение': {'номер страницы: ': 3, 'номер строки: ': 23},\n",
      " 'соответствие': {'номер страницы: ': 21, 'номер строки: ': 24},\n",
      " 'соответствующий': {'номер страницы: ': 16, 'номер строки: ': 26},\n",
      " 'статья': {'номер страницы: ': 22, 'номер строки: ': 7},\n",
      " 'субъект': {'номер страницы: ': 4, 'номер строки: ': 21},\n",
      " 'сфера': {'номер страницы: ': 15, 'номер строки: ': 19},\n",
      " 'также': {'номер страницы: ': 4, 'номер строки: ': 11},\n",
      " 'тематический': {'номер страницы: ': 4, 'номер строки: ': 16},\n",
      " 'территориальный': {'номер страницы: ': 4, 'номер строки: ': 20},\n",
      " 'территория': {'номер страницы: ': 176, 'номер строки: ': 7},\n",
      " 'уполномочить': {'номер страницы: ': 19, 'номер строки: ': 10},\n",
      " 'установить': {'номер страницы: ': 16, 'номер строки: ': 9},\n",
      " 'устный': {'номер страницы: ': 3, 'номер строки: ': 20},\n",
      " 'учреждение': {'номер страницы: ': 1, 'номер строки: ': 5},\n",
      " 'федеральный': {'номер страницы: ': 4, 'номер строки: ': 19},\n",
      " 'форма': {'номер страницы: ': 3, 'номер строки: ': 20},\n",
      " 'ход': {'номер страницы: ': 26, 'номер строки: ': 25},\n",
      " 'часть': {'номер страницы: ': 22, 'номер строки: ': 7},\n",
      " 'число': {'номер страницы: ': 1, 'номер строки: ': 3},\n",
      " 'электронный': {'номер страницы: ': 3, 'номер строки: ': 15},\n",
      " 'юридический': {'номер страницы: ': 1, 'номер строки: ': 3}}\n"
     ]
    }
   ],
   "source": [
    "nlp = spacy.load('ru_core_news_lg')\n",
    "doc = pdf_reader('met_recommendations.pdf', nlp)\n",
    "\n",
    "\n",
    "cleaned_text = preprocess_text(doc)\n",
    "\n",
    "word_usage = [[key, len(list(group))] for key, group in groupby(sorted(cleaned_text))]\n",
    "\n",
    "sorted_word_usage = sorted(word_usage,  reverse=True, key=lambda x: x[1])\n",
    "\n",
    "main_words_usage = sorted_word_usage[0:100]\n",
    "\n",
    "main_words = [i[0] for i in main_words_usage] \n",
    "\n",
    "x = generate_index(doc, main_words)\n",
    "pprint.pprint(x)"
   ]
  },
  {
   "cell_type": "code",
   "execution_count": 131,
   "metadata": {
    "scrolled": false
   },
   "outputs": [
    {
     "data": {
      "image/png": "[encoded data removed]",
      "text/plain": [
       "<Figure size 1400x600 with 1 Axes>"
      ]
     },
     "metadata": {},
     "output_type": "display_data"
    }
   ],
   "source": [
    "plt.figure(figsize=(14, 6)) # Построение горизонтальной гистограммы\n",
    "plt.barh([i[0] for i in main_words_usage[0:10]][::-1], [i[1] for i in main_words_usage[0:10]][::-1], color='skyblue')\n",
    "plt.xlabel(\"Слово\")\n",
    "plt.ylabel(\"Количество упоминаний\")\n",
    "plt.title(\"Гистограмма самых распостранённых слов в документе\")\n",
    "plt.show()"
   ]
  }
 ],
 "metadata": {
  "kernelspec": {
   "display_name": "Python 3 (ipykernel)",
   "language": "python",
   "name": "python3"
  },
  "language_info": {
   "codemirror_mode": {
    "name": "ipython",
    "version": 3
   },
   "file_extension": ".py",
   "mimetype": "text/x-python",
   "name": "python",
   "nbconvert_exporter": "python",
   "pygments_lexer": "ipython3",
   "version": "3.10.9"
  }
 },
 "nbformat": 4,
 "nbformat_minor": 2
}
